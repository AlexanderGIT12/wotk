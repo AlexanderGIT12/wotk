{
  "nbformat": 4,
  "nbformat_minor": 0,
  "metadata": {
    "colab": {
      "provenance": [],
      "authorship_tag": "ABX9TyMP5w2+RTfJG52TdSJ6TRHx",
      "include_colab_link": true
    },
    "kernelspec": {
      "name": "python3",
      "display_name": "Python 3"
    },
    "language_info": {
      "name": "python"
    }
  },
  "cells": [
    {
      "cell_type": "markdown",
      "metadata": {
        "id": "view-in-github",
        "colab_type": "text"
      },
      "source": [
        "<a href=\"https://colab.research.google.com/github/AlexanderGIT12/wotk/blob/main/untitled1.ipynb\" target=\"_parent\"><img src=\"https://colab.research.google.com/assets/colab-badge.svg\" alt=\"Open In Colab\"/></a>"
      ]
    },
    {
      "cell_type": "code",
      "execution_count": null,
      "metadata": {
        "colab": {
          "base_uri": "https://localhost:8080/"
        },
        "id": "r4RM9h_0nlph",
        "outputId": "89f6f536-5e5b-4f5b-9fa2-c24b42bf0c1c"
      },
      "outputs": [
        {
          "output_type": "stream",
          "name": "stdout",
          "text": [
            "Введите элементы массива 1 через пробел: 23 254 235\n",
            "Введите элементы массива 2 через пробел: 23 23 65 68\n",
            "Введите элементы массива 3 через пробел: 123 235 68 546\n",
            "Введите элементы массива 4 через пробел: 546 234 25 36\n",
            "Введите элементы массива 5 через пробел: 346 346 86 56\n",
            "нету знакочередущих массивов\n"
          ]
        }
      ],
      "source": [
        "def check_signs(arr):\n",
        "  if len(arr)<2:\n",
        "    return False\n",
        "    sign=arr[0]>=0\n",
        "    for i in range(1, len(arr)):\n",
        "      if (arr[i]>=0)==sign:\n",
        "        return False\n",
        "        sign= not sign\n",
        "      return True\n",
        "\n",
        "arrays=[]\n",
        "for i in range(5):\n",
        "  arr =list(map(float, input(f\"Введите элементы массива {i+1} через пробел: \").split()))\n",
        "  arrays.append(arr)\n",
        "\n",
        "found=False\n",
        "for i in range(5):\n",
        "  if check_signs(arrays[i]):\n",
        "    print(f\"ьассив под номером {i+1} является знаGGGGGGGGGя\")\n",
        "    found=True\n",
        "\n",
        "\n",
        "if not found:\n",
        "  print(\"нету знакочередущих массивов\")"
      ]
    }
  ]
}